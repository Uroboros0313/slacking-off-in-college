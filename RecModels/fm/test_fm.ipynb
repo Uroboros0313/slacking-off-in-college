{
 "cells": [
  {
   "cell_type": "code",
   "execution_count": 1,
   "metadata": {},
   "outputs": [
    {
     "name": "stderr",
     "output_type": "stream",
     "text": [
      "d:\\Anaconda\\envs\\torch\\lib\\site-packages\\tqdm\\auto.py:22: TqdmWarning: IProgress not found. Please update jupyter and ipywidgets. See https://ipywidgets.readthedocs.io/en/stable/user_install.html\n",
      "  from .autonotebook import tqdm as notebook_tqdm\n",
      "d:\\Anaconda\\envs\\torch\\lib\\site-packages\\pandas\\util\\_decorators.py:311: ParserWarning: Falling back to the 'python' engine because the 'c' engine does not support regex separators (separators > 1 char and different from '\\s+' are interpreted as regex); you can avoid this warning by specifying engine='python'.\n",
      "  return func(*args, **kwargs)\n"
     ]
    }
   ],
   "source": [
    "import os\n",
    "from pathlib import Path\n",
    "\n",
    "import pandas as pd\n",
    "from sklearn.model_selection import train_test_split\n",
    "pd.set_option('display.max_columns', None)\n",
    "\n",
    "from utils import read_dataframe, get_dummy_df, get_tensor_dataset\n",
    "from model.fm import FMModel\n",
    "\n",
    "BATCH_SIZE = 32\n",
    "DATA_DIR = Path('../data/ml-1m/')\n",
    "UNAMES = ['user_id', 'gender', 'age', 'occupation', 'zip']\n",
    "RNAMES = ['user_id', 'movie_id', 'rating', 'timestamp']\n",
    "MNAMES = ['movie_id', 'title', 'genres']\n",
    "\n",
    "user_df = read_dataframe(DATA_DIR / 'users.dat', sep=\"::\", names=UNAMES)\n",
    "rate_df = read_dataframe(DATA_DIR / 'ratings.dat', sep='::', names=RNAMES)\n",
    "movie_df = read_dataframe(DATA_DIR / 'movies.dat', sep='::', names=MNAMES)\n",
    "df = pd.merge(pd.merge(user_df, rate_df, on='user_id'), movie_df, on='movie_id')\n",
    "df = df[df['rating'] != 3]\n",
    "df['rating'] = df['rating'].map(lambda x: 0 if x > 3 else 1)"
   ]
  },
  {
   "cell_type": "code",
   "execution_count": 2,
   "metadata": {},
   "outputs": [
    {
     "name": "stdout",
     "output_type": "stream",
     "text": [
      "length of movie list:322\n",
      "length of movie list:37\n"
     ]
    }
   ],
   "source": [
    "# 数据量较大\n",
    "# 挑选有20～35次打分的movie_id\n",
    "movie_group = df.groupby('movie_id').size()\n",
    "movie_group = pd.Series(movie_group).where(lambda x: x < 35).dropna()\n",
    "movie_list = pd.Series(movie_group).where(\n",
    "    lambda x: x > 20).dropna().index.values\n",
    "print(f\"length of movie list:{len(movie_list)}\")\n",
    "df = df[df['movie_id'].isin(movie_list)]\n",
    "\n",
    "# 挑选有>20次打分行为的user_id\n",
    "user_group = df.groupby('user_id').size()\n",
    "user_list = pd.Series(user_group).where(lambda x: x > 20).dropna().index.values\n",
    "print(f\"length of movie list:{len(user_list)}\")\n",
    "df = df[df['user_id'].isin(user_list)]"
   ]
  },
  {
   "cell_type": "code",
   "execution_count": 3,
   "metadata": {},
   "outputs": [],
   "source": [
    "dummy_cols = ['user_id', 'movie_id']\n",
    "df = get_dummy_df(df, dummy_cols)\n",
    "\n",
    "df = df.drop(['timestamp', 'gender', 'age', 'occupation','zip', 'title', 'genres'], axis=1)\n",
    "if not os.path.exists('../data/user_data/fm_data.csv'):\n",
    "    df.to_csv('../data/user_data/fm_data.csv', index=None)\n",
    "\n",
    "y = df['rating']\n",
    "del df['rating']\n",
    "X = df"
   ]
  },
  {
   "cell_type": "code",
   "execution_count": 4,
   "metadata": {},
   "outputs": [],
   "source": [
    "trn_x, tst_x, trn_y, tst_y = train_test_split(X, y, test_size=0.2,)\n",
    "train_loader = get_tensor_dataset(trn_x.values, trn_y.values, BATCH_SIZE)\n",
    "test_loader = get_tensor_dataset(tst_x.values, tst_y.values, BATCH_SIZE)"
   ]
  },
  {
   "cell_type": "code",
   "execution_count": 5,
   "metadata": {},
   "outputs": [
    {
     "name": "stdout",
     "output_type": "stream",
     "text": [
      "EPOCH: 10 || TRAIN LOSS: 10.1202\n",
      "EPOCH: 20 || TRAIN LOSS: 4.5611\n",
      "EPOCH: 30 || TRAIN LOSS: 2.1174\n",
      "EPOCH: 40 || TRAIN LOSS: 1.0628\n",
      "EPOCH: 50 || TRAIN LOSS: 0.5970\n",
      "EPOCH: 60 || TRAIN LOSS: 0.3659\n",
      "EPOCH: 70 || TRAIN LOSS: 0.2396\n",
      "EPOCH: 80 || TRAIN LOSS: 0.1648\n",
      "EPOCH: 90 || TRAIN LOSS: 0.1176\n",
      "EPOCH: 100 || TRAIN LOSS: 0.0863\n",
      "TEST RESULT || AUC: 1.0 ||\n",
      "TEST RESULT || AUC: 0.7283644681662218 ||\n"
     ]
    }
   ],
   "source": [
    "model = FMModel(X.shape[1], 5)\n",
    "model.fit(train_loader, n_epochs=100, lr=0.01)\n",
    "model.eval(train_loader)\n",
    "model.eval(test_loader)"
   ]
  },
  {
   "cell_type": "code",
   "execution_count": null,
   "metadata": {},
   "outputs": [],
   "source": []
  }
 ],
 "metadata": {
  "kernelspec": {
   "display_name": "Python 3.7.3 ('torch')",
   "language": "python",
   "name": "python3"
  },
  "language_info": {
   "codemirror_mode": {
    "name": "ipython",
    "version": 3
   },
   "file_extension": ".py",
   "mimetype": "text/x-python",
   "name": "python",
   "nbconvert_exporter": "python",
   "pygments_lexer": "ipython3",
   "version": "3.7.3"
  },
  "orig_nbformat": 4,
  "vscode": {
   "interpreter": {
    "hash": "f31b5846fe4d0e510ff280a80fa1fd1567c5c662c3b99a86eb737e0309da4a2e"
   }
  }
 },
 "nbformat": 4,
 "nbformat_minor": 2
}
