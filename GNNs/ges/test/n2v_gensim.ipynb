{
 "cells": [
  {
   "cell_type": "code",
   "execution_count": 1,
   "metadata": {},
   "outputs": [
    {
     "name": "stderr",
     "output_type": "stream",
     "text": [
      "C:\\Users\\lisuc\\AppData\\Roaming\\Python\\Python37\\site-packages\\gensim\\similarities\\__init__.py:15: UserWarning: The gensim.similarities.levenshtein submodule is disabled, because the optional Levenshtein package <https://pypi.org/project/python-Levenshtein/> is unavailable. Install Levenhstein (e.g. `pip install python-Levenshtein`) to suppress this warning.\n",
      "  warnings.warn(msg)\n"
     ]
    },
    {
     "name": "stdout",
     "output_type": "stream",
     "text": [
      "number of edges: 16523\n",
      "number of nodes: 2405\n"
     ]
    },
    {
     "name": "stderr",
     "output_type": "stream",
     "text": [
      "d:\\Anaconda\\envs\\torch\\lib\\site-packages\\tqdm\\auto.py:22: TqdmWarning: IProgress not found. Please update jupyter and ipywidgets. See https://ipywidgets.readthedocs.io/en/stable/user_install.html\n",
      "  from .autonotebook import tqdm as notebook_tqdm\n"
     ]
    }
   ],
   "source": [
    "import pathlib\n",
    "import sys\n",
    "sys.path.append('..')\n",
    "\n",
    "import pandas as pd\n",
    "import numpy as np\n",
    "import networkx as nx\n",
    "from gensim.models import Word2Vec\n",
    "from sklearn.manifold import TSNE\n",
    "import matplotlib.pyplot as plt\n",
    "\n",
    "from ge.walker import RandomWalker\n",
    "\n",
    "\n",
    "DATA_PATH = pathlib.Path('../dataset/wiki/Wiki_edgelist.txt')\n",
    "WINDOW_SIZE = 4\n",
    "WALK_LEN = 10\n",
    "NUM_WALK = 10\n",
    "EMBED_DIM = 128\n",
    "BATCH_SIZE = 10000\n",
    "EPOCHS = 1\n",
    "N_JOBS = 8\n",
    "WALK_METHOD = 'node2vec'\n",
    "P = 0.25\n",
    "Q = 4\n",
    "USE_REJECTION_SAMPLING = 0\n",
    "\n",
    "G = nx.read_edgelist(\n",
    "    DATA_PATH,\n",
    "    create_using=nx.DiGraph(), \n",
    "    nodetype=None, \n",
    "    data=[('weight', int)])\n",
    "print('number of edges: {}'.format(G.number_of_edges()))\n",
    "print('number of nodes: {}'.format(G.number_of_nodes()))"
   ]
  },
  {
   "cell_type": "code",
   "execution_count": 2,
   "metadata": {},
   "outputs": [
    {
     "name": "stdout",
     "output_type": "stream",
     "text": [
      "<class 'networkx.classes.coreviews.AtlasView'>\n",
      "Help on class AtlasView in module networkx.classes.coreviews:\n",
      "\n",
      "class AtlasView(collections.abc.Mapping)\n",
      " |  AtlasView(d)\n",
      " |  \n",
      " |  An AtlasView is a Read-only Mapping of Mappings.\n",
      " |  \n",
      " |  It is a View into a dict-of-dict data structure.\n",
      " |  The inner level of dict is read-write. But the\n",
      " |  outer level is read-only.\n",
      " |  \n",
      " |  See Also\n",
      " |  ========\n",
      " |  AdjacencyView - View into dict-of-dict-of-dict\n",
      " |  MultiAdjacencyView - View into dict-of-dict-of-dict-of-dict\n",
      " |  \n",
      " |  Method resolution order:\n",
      " |      AtlasView\n",
      " |      collections.abc.Mapping\n",
      " |      collections.abc.Collection\n",
      " |      collections.abc.Sized\n",
      " |      collections.abc.Iterable\n",
      " |      collections.abc.Container\n",
      " |      builtins.object\n",
      " |  \n",
      " |  Methods defined here:\n",
      " |  \n",
      " |  __getitem__(self, key)\n",
      " |  \n",
      " |  __getstate__(self)\n",
      " |  \n",
      " |  __init__(self, d)\n",
      " |      Initialize self.  See help(type(self)) for accurate signature.\n",
      " |  \n",
      " |  __iter__(self)\n",
      " |  \n",
      " |  __len__(self)\n",
      " |  \n",
      " |  __repr__(self)\n",
      " |      Return repr(self).\n",
      " |  \n",
      " |  __setstate__(self, state)\n",
      " |  \n",
      " |  __str__(self)\n",
      " |      Return str(self).\n",
      " |  \n",
      " |  copy(self)\n",
      " |  \n",
      " |  ----------------------------------------------------------------------\n",
      " |  Data and other attributes defined here:\n",
      " |  \n",
      " |  __abstractmethods__ = frozenset()\n",
      " |  \n",
      " |  ----------------------------------------------------------------------\n",
      " |  Methods inherited from collections.abc.Mapping:\n",
      " |  \n",
      " |  __contains__(self, key)\n",
      " |  \n",
      " |  __eq__(self, other)\n",
      " |      Return self==value.\n",
      " |  \n",
      " |  get(self, key, default=None)\n",
      " |      D.get(k[,d]) -> D[k] if k in D, else d.  d defaults to None.\n",
      " |  \n",
      " |  items(self)\n",
      " |      D.items() -> a set-like object providing a view on D's items\n",
      " |  \n",
      " |  keys(self)\n",
      " |      D.keys() -> a set-like object providing a view on D's keys\n",
      " |  \n",
      " |  values(self)\n",
      " |      D.values() -> an object providing a view on D's values\n",
      " |  \n",
      " |  ----------------------------------------------------------------------\n",
      " |  Data and other attributes inherited from collections.abc.Mapping:\n",
      " |  \n",
      " |  __hash__ = None\n",
      " |  \n",
      " |  __reversed__ = None\n",
      " |  \n",
      " |  ----------------------------------------------------------------------\n",
      " |  Class methods inherited from collections.abc.Collection:\n",
      " |  \n",
      " |  __subclasshook__(C) from abc.ABCMeta\n",
      " |      Abstract classes can override this to customize issubclass().\n",
      " |      \n",
      " |      This is invoked early on by abc.ABCMeta.__subclasscheck__().\n",
      " |      It should return True, False or NotImplemented.  If it returns\n",
      " |      NotImplemented, the normal algorithm is used.  Otherwise, it\n",
      " |      overrides the normal algorithm (and the outcome is cached).\n",
      "\n",
      "None\n"
     ]
    }
   ],
   "source": [
    "print(type(G['743']))\n",
    "print(help(nx.classes.coreviews.AtlasView))\n",
    "# An AtlasView is a Read-only Mapping of Mappings.\n",
    "# Python3.6以后, 字典是有序的, 这里的有序是指遍历时是按插入的顺序\n",
    "# 同时每次遍历出来的结果相同"
   ]
  },
  {
   "cell_type": "code",
   "execution_count": 3,
   "metadata": {},
   "outputs": [],
   "source": [
    "walker = RandomWalker(\n",
    "    G,\n",
    "    WALK_LEN,\n",
    "    NUM_WALK,\n",
    "    N_JOBS,\n",
    "    WALK_METHOD,\n",
    "    P,\n",
    "    Q,\n",
    "    USE_REJECTION_SAMPLING\n",
    "    )\n",
    "walker.process_trans_prob()\n",
    "walks = walker.gen_walks()"
   ]
  },
  {
   "cell_type": "code",
   "execution_count": 5,
   "metadata": {},
   "outputs": [
    {
     "name": "stdout",
     "output_type": "stream",
     "text": [
      "Learning embedding vectors...\n",
      "Learning embedding vectors done!\n"
     ]
    },
    {
     "name": "stderr",
     "output_type": "stream",
     "text": [
      "d:\\Anaconda\\envs\\torch\\lib\\site-packages\\sklearn\\manifold\\_t_sne.py:783: FutureWarning: The default initialization in TSNE will change from 'random' to 'pca' in 1.2.\n",
      "  FutureWarning,\n",
      "d:\\Anaconda\\envs\\torch\\lib\\site-packages\\sklearn\\manifold\\_t_sne.py:793: FutureWarning: The default learning rate in TSNE will change from 200.0 to 'auto' in 1.2.\n",
      "  FutureWarning,\n"
     ]
    },
    {
     "data": {
      "image/png": "[encoded data removed]",
      "text/plain": [
       "<Figure size 432x288 with 1 Axes>"
      ]
     },
     "metadata": {
      "needs_background": "light"
     },
     "output_type": "display_data"
    }
   ],
   "source": [
    "kwargs = dict()\n",
    "kwargs[\"sentences\"] = walks\n",
    "kwargs[\"min_count\"] = 0\n",
    "kwargs[\"vector_size\"] = EMBED_DIM\n",
    "kwargs[\"sg\"] = 1  # skip gram\n",
    "kwargs[\"hs\"] = 1  # 层次化软max是关键参数\n",
    "kwargs[\"workers\"] = 4\n",
    "kwargs[\"window\"] = WINDOW_SIZE\n",
    "kwargs[\"epochs\"] = EPOCHS\n",
    "kwargs[\"negative\"] = 0\n",
    "#kwargs[\"min_alpha\"] = 0.025\n",
    "\n",
    "print(\"Learning embedding vectors...\")\n",
    "model = Word2Vec(**kwargs,)\n",
    "print(\"Learning embedding vectors done!\")\n",
    "nes = []\n",
    "for node in list(G.nodes()):\n",
    "    nes.append(model.wv[node])\n",
    "    \n",
    "tsne = TSNE(n_components=2)\n",
    "embed_2d = tsne.fit_transform(nes)\n",
    "plt.scatter(embed_2d[:, 0], embed_2d[:, 1], s=1)\n",
    "plt.show()\n"
   ]
  },
  {
   "cell_type": "code",
   "execution_count": null,
   "metadata": {},
   "outputs": [],
   "source": []
  }
 ],
 "metadata": {
  "kernelspec": {
   "display_name": "torch",
   "language": "python",
   "name": "torch"
  },
  "language_info": {
   "codemirror_mode": {
    "name": "ipython",
    "version": 3
   },
   "file_extension": ".py",
   "mimetype": "text/x-python",
   "name": "python",
   "nbconvert_exporter": "python",
   "pygments_lexer": "ipython3",
   "version": "3.7.3 (default, Apr 24 2019, 15:29:51) [MSC v.1915 64 bit (AMD64)]"
  },
  "orig_nbformat": 4,
  "vscode": {
   "interpreter": {
    "hash": "f31b5846fe4d0e510ff280a80fa1fd1567c5c662c3b99a86eb737e0309da4a2e"
   }
  }
 },
 "nbformat": 4,
 "nbformat_minor": 2
}
